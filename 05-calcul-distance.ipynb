{
 "cells": [
  {
   "cell_type": "markdown",
   "id": "ed71c3d5",
   "metadata": {},
   "source": [
    "# Calcul de la distance entre un joueur et la table\n",
    "\n",
    "Dans ce notebook, on aborde une première approche pour évaluer la distance entre un joueur et la table. En se basant l'homographie, on peut projeter un point de l'image originale dans le plan vu du dessus où les dimensions sont connues. On peut donc caculer la distance de ce point par rapport à la table."
   ]
  },
  {
   "cell_type": "code",
   "execution_count": 2,
   "id": "4b5c1244",
   "metadata": {},
   "outputs": [],
   "source": [
    "#Foncion permettant de ressortir les points enregistrés pour l'homographie \n",
    "def recuperation_points_table(json_path):\n",
    "    \"\"\"\n",
    "    Fonction permettant de ressortir les points enregistrés pour l'homographie (généralement les coins de la table)\n",
    "    Entrée: Le chemin du json contenant les points pour l'homographie\n",
    "    Sortie: un éléments contenant les points\n",
    "    \"\"\"\n",
    "    with open(json_path) as json_file:\n",
    "        json_course = json.load(json_file)\n",
    "\n",
    "    src_pts1 = np.float32(json_course['homography']['srcPts'])\n",
    "    \n",
    "\n",
    "    return(src_pts1)"
   ]
  },
  {
   "cell_type": "code",
   "execution_count": 3,
   "id": "d926e0d6",
   "metadata": {},
   "outputs": [],
   "source": [
    "#Calculez la distance entre un joueur et la table\n",
    "\n",
    "#Calculez cette distance sur l'ensemble de la vidéo et tracez des courbes pour visualiser cette évolution"
   ]
  },
  {
   "cell_type": "code",
   "execution_count": null,
   "id": "f9041757",
   "metadata": {},
   "outputs": [],
   "source": [
    "#Calcul de la distance des joueurs par rapport à la table\n",
    "def calcul_position_joueurs(chemin_csv_openpose,num_personne,num_frame,json_table):\n",
    "    \"\"\"\n",
    "        Fonction permettant de calculer la distance entre un joueur et la table\n",
    "        Entrée: le chemin du csv Openpose tracking, le numéro de la personne, le numéro de la frame, le json avec les coins de la table\n",
    "        Sortie: la distance selon l'axe x et la distance selon l'axe y\n",
    "    \"\"\"\n",
    "    #Récupération des points de la table\n",
    "    liste_point_table = recuperation_points_table(json_table)\n",
    "    px = []\n",
    "    py = []\n",
    "    for point in liste_point_table:\n",
    "        px.append(int(point[0]))\n",
    "        py.append(int(point[1]))\n",
    "        \n",
    "    #Récupération de la position du bassin de la table\n",
    "    with open(chemin_csv_openpose, newline='') as csvfile:\n",
    "        reader = csv.reader(csvfile)\n",
    "        next(reader) #permet de ne pas prendre l'en-tête\n",
    "        position_bassin = []\n",
    "        for row in reader:\n",
    "            if ((int(row[0]) == num_frame) and (int(row[5]) == num_personne) and (int(row[2]) == 8)):\n",
    "                position_bassin = [float(row[3]),float(row[4])]\n",
    "    \n",
    "    #Calcul de la position de la personne (centre du référentiel = centre de la table)\n",
    "    if position_bassin != []:\n",
    "        \n",
    "        pt_centre_image = (640,480)\n",
    "        pts_src = np.float32([[px[0],py[0]],[px[1],py[1]],[px[2],py[2]],[px[3],py[3]]]).reshape(-1,1,2)\n",
    "        pts_dst = np.float32([[pt_centre_image[0]-152/2,pt_centre_image[1]-274/2],[pt_centre_image[0]+152/2,pt_centre_image[1]-274/2],[pt_centre_image[0]+152/2,pt_centre_image[1]+274/2],[pt_centre_image[0]-152/2,pt_centre_image[1]+274/2]]).reshape(-1,1,2)\n",
    "        H = cv2.getPerspectiveTransform(pts_src, pts_dst)\n",
    "\n",
    "\n",
    "        pt_joueur_A = np.array([[position_bassin]], dtype=np.float32)\n",
    "        pts_joueur_A = cv2.perspectiveTransform(pt_joueur_A,H)\n",
    "        \n",
    "        return(pts_joueur_A[0][0][0]-pt_centre_image[0],pts_joueur_A[0][0][1]-pt_centre_image[1])\n",
    "    else:\n",
    "        return(-1)\n",
    "\n",
    "#calcul_position_joueurs(os.path.join('output','csv','openpose_tracking.csv'),0,2,os.path.join(\"output\",\"points_table.json\"))"
   ]
  }
 ],
 "metadata": {
  "kernelspec": {
   "display_name": "Python 3 (ipykernel)",
   "language": "python",
   "name": "python3"
  },
  "language_info": {
   "codemirror_mode": {
    "name": "ipython",
    "version": 3
   },
   "file_extension": ".py",
   "mimetype": "text/x-python",
   "name": "python",
   "nbconvert_exporter": "python",
   "pygments_lexer": "ipython3",
   "version": "3.7.2"
  }
 },
 "nbformat": 4,
 "nbformat_minor": 5
}
