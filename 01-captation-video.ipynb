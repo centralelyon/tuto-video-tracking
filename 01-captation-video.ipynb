{
 "cells": [
  {
   "cell_type": "markdown",
   "id": "4ea2fdd7",
   "metadata": {},
   "source": [
    "# Notebook sur captation vidéo\n",
    "\n",
    "Ce notebook évoque les étapes importantes pour réaliser une captation dans les meilleures conditions possibles"
   ]
  },
  {
   "cell_type": "markdown",
   "id": "3a901e12",
   "metadata": {},
   "source": [
    "### 1. Placement des objets\n",
    "\n",
    "Lors d'une compétition, on ne contrôle pas toujours la position des objets, exemple au tennis de table les tables sont positionnées par les organisateurs, en natation la piscine ne peut pas être déplacée. Dans le cadre de captations en laboratoire, les positions des objets peuvent être choisies.\n",
    "\n",
    "Dans notre cas du tennis de table, on a le contrôle sur la position de la table.\n",
    "Les principaux aspects à prendre en compte pour le positionnement de la table sont:\n",
    "- L'éclairage, il faut faire attention aux reflets\n",
    "- L'espace disponible, il ne faut pas oublier que l'on aura besoin de filmer, il faut donc penser à garder de la place pour le matériel de captation\n",
    "\n",
    "\n",
    "### 2. Choix du matériel de captation\n",
    "\n",
    "Le choix du matériel de captation est très important, il faut qu'il soit choisi en fonction de nos besoins. Le choix se fait sur:\n",
    "- La qualité de l'image que l'on veut avoir\n",
    "- Le nombre de fps\n",
    "- Si l'on veut faire du temps réel ou pas (pour le temps réel il faut le matériel puisse permettre la récupération en temps réel)\n",
    "- L'environnement, ça peut être la luminosité, si on est sous l'eau,...\n",
    "\n",
    "Dans notre cas, on utilisera des webcam.\n",
    "En plus de la caméra, il faut prévoir les systèmes d'attache ou de support de caméra.\n",
    "\n",
    "\n",
    "### 3. Positionnement de la caméra\n",
    "\n",
    "Pour le positionnement de la caméra, il faut à plusieurs éléments:\n",
    "- Qu'il n'y ait pas de risque que le matériel puisse bouger, tomber ou être endommagé\n",
    "- Que toute la scène soit présente dans le champs de la caméra\n",
    "- Qu'il n'y ait pas d'élément qui puisse cacher une partie de l'image\n",
    "- Qu'il n'y ait pas d'élément en arrière plan qui puisse perturber les détections (pas d'objet similaires, pas de reflet)\n",
    "\n",
    "\n",
    "### 4. Enregistrement\n",
    "\n",
    "Pour l'enregistrement, il faut faire attention à ne pas faire bouger la caméra lorsque l'on met en marche ou que l'on coupe l'enregistrement.\n",
    "Une fois l'enregistrement effectué, il faut bien structurer les captations:\n",
    "- Choisir les dossiers qui seront utilisés\n",
    "- Choisir les noms des vidéos de manière pertinante\n",
    "- Choisir comment stocker les informations liées à la captation (date, conditions,...)"
   ]
  },
  {
   "cell_type": "markdown",
   "id": "d43944ba",
   "metadata": {},
   "source": [
    "### 1. Placement des objets\n",
    "\n",
    "Metez en évidence les éventuels problèmes auxquels il faut faire attention et proposez un positionnement de la table"
   ]
  },
  {
   "cell_type": "code",
   "execution_count": null,
   "id": "056f1e68",
   "metadata": {},
   "outputs": [],
   "source": []
  },
  {
   "cell_type": "markdown",
   "id": "71f29d75",
   "metadata": {},
   "source": [
    "### 3. Positionnement de la caméra\n",
    "\n",
    "Metez en évidence les éventuels problèmes auxquels il faut faire attention et proposez un positionnement de la caméra pour répondre aux demandes"
   ]
  },
  {
   "cell_type": "code",
   "execution_count": null,
   "id": "7344954c",
   "metadata": {},
   "outputs": [],
   "source": []
  },
  {
   "cell_type": "markdown",
   "id": "9d095d18",
   "metadata": {},
   "source": [
    "### 4. Enregistrement\n",
    "\n",
    "Proposez une structure pour l'enregistrement"
   ]
  }
 ],
 "metadata": {
  "kernelspec": {
   "display_name": "Python 3 (ipykernel)",
   "language": "python",
   "name": "python3"
  },
  "language_info": {
   "codemirror_mode": {
    "name": "ipython",
    "version": 3
   },
   "file_extension": ".py",
   "mimetype": "text/x-python",
   "name": "python",
   "nbconvert_exporter": "python",
   "pygments_lexer": "ipython3",
   "version": "3.7.2"
  }
 },
 "nbformat": 4,
 "nbformat_minor": 5
}
