{
 "cells": [
  {
   "cell_type": "code",
   "execution_count": 5,
   "id": "0a26a209",
   "metadata": {},
   "outputs": [],
   "source": [
    "import cv2\n",
    "import os\n",
    "import subprocess\n",
    "import json\n",
    "import pandas as pd\n",
    "import csv\n",
    "import ipywidgets\n",
    "#from IPython.display import Image, display\n",
    "import IPython.display\n",
    "import PIL\n",
    "from ipyfilechooser import FileChooser"
   ]
  },
  {
   "cell_type": "code",
   "execution_count": 6,
   "id": "3b525341",
   "metadata": {},
   "outputs": [
    {
     "data": {
      "application/vnd.jupyter.widget-view+json": {
       "model_id": "aa533bf25cc34cc9be476851494027f8",
       "version_major": 2,
       "version_minor": 0
      },
      "text/plain": [
       "FileChooser(path='C:\\Users\\ReViVD\\Documents\\GitHub\\tuto-video-tracking', filename='test.txt', title='<b>FileCh…"
      ]
     },
     "metadata": {},
     "output_type": "display_data"
    },
    {
     "name": "stdout",
     "output_type": "stream",
     "text": [
      "FileChooser(path='C:\\Users\\ReViVD\\Documents\\GitHub', filename='foobar.txt', title='<b>Select the output file</b>', show_hidden=True, select_desc='Select', change_desc='Change', select_default=True, show_only_dirs=False, dir_icon_append=True, dir_icon='\\', filter_pattern=['*.jpg', '*.png'])\n"
     ]
    },
    {
     "data": {
      "text/plain": [
       "'0.6.0'"
      ]
     },
     "execution_count": 6,
     "metadata": {},
     "output_type": "execute_result"
    }
   ],
   "source": [
    "\n",
    "\n",
    "from ipyfilechooser import FileChooser\n",
    "import os\n",
    "\n",
    "# Create new FileChooser:\n",
    "# Path: current directory\n",
    "# File: test.txt\n",
    "# Title: <b>FileChooser example</b>\n",
    "# Show hidden files: no\n",
    "# Use the default path and filename as selection: yes\n",
    "# Only show folders: no\n",
    "fdialog = FileChooser(\n",
    "    os.getcwd(),\n",
    "    filename='test.txt',\n",
    "    title='<b>FileChooser example</b>',\n",
    "    show_hidden=False,\n",
    "    select_default=True,\n",
    "    show_only_dirs=False\n",
    ")\n",
    "\n",
    "display(fdialog)\n",
    "\n",
    "# Get the selected value\n",
    "fdialog.selected\n",
    "\n",
    "# Callback example\n",
    "def change_title(chooser):\n",
    "    chooser.title = '<b>Callback function executed</b>'\n",
    "\n",
    "# Register callback function\n",
    "fdialog.register_callback(change_title)\n",
    "\n",
    "# Set or change the title\n",
    "fdialog.title = '<b>Select the output file</b>'\n",
    "\n",
    "# Show hidden files, change rows to 10, and hide folder icons\n",
    "fdialog.show_hidden = True\n",
    "fdialog.rows = 10\n",
    "fdialog.dir_icon = None\n",
    "\n",
    "# Change folder icon to `os.sep` and append it to the folder name\n",
    "fdialog.dir_icon = os.sep\n",
    "fdialog.dir_icon_append = True\n",
    "\n",
    "\n",
    "\n",
    "# Switch to folder-only mode\n",
    "fdialog.show_only_dirs = True\n",
    "\n",
    "# Switch back to standard mode\n",
    "fdialog.show_only_dirs = False\n",
    "\n",
    "# Set a file filter pattern (uses https://docs.python.org/3/library/fnmatch.html)\n",
    "fdialog.filter_pattern = '*.txt'\n",
    "\n",
    "# Set multiple file filter patterns (uses https://docs.python.org/3/library/fnmatch.html)\n",
    "fdialog.filter_pattern = ['*.jpg', '*.png']\n",
    "\n",
    "# Change the default path and filename\n",
    "fdialog.default_path = os.path.abspath(os.path.join(os.getcwd(), '..'))\n",
    "fdialog.default_filename = 'foobar.txt'\n",
    "\n",
    "# Reset to defaults and clear the selected value\n",
    "fdialog.reset()\n",
    "\n",
    "# String representation\n",
    "print(fdialog)\n",
    "\n",
    "# Print the version number\n",
    "import ipyfilechooser\n",
    "ipyfilechooser.__version__\n",
    "\n"
   ]
  }
 ],
 "metadata": {
  "kernelspec": {
   "display_name": "Python 3 (ipykernel)",
   "language": "python",
   "name": "python3"
  },
  "language_info": {
   "codemirror_mode": {
    "name": "ipython",
    "version": 3
   },
   "file_extension": ".py",
   "mimetype": "text/x-python",
   "name": "python",
   "nbconvert_exporter": "python",
   "pygments_lexer": "ipython3",
   "version": "3.7.2"
  }
 },
 "nbformat": 4,
 "nbformat_minor": 5
}
