{
 "cells": [
  {
   "cell_type": "markdown",
   "id": "f8335252",
   "metadata": {},
   "source": [
    "# Notebook de détection\n",
    "\n",
    "Dans ce notebook, nous proposons des premières approches pour faire des détections d'objets.\n",
    "Pour celà l'idée est de se servir de l'estimation de pose qui nous donne certaines informations, par exemple on sait que la raquette des joueurs est tenue par une de leurs mains"
   ]
  },
  {
   "cell_type": "markdown",
   "id": "28847eb5",
   "metadata": {},
   "source": [
    "### 1. Bounding box autour des joueurs\n",
    "\n",
    "Pour cette partie, on cherche à tracer des box autour des joueurs, étant donné que l'on connait déjà l'estimation de pose des joueurs, on va pouvoir l'utiliser sans avoir à faire une détection des personnes"
   ]
  },
  {
   "cell_type": "code",
   "execution_count": 2,
   "id": "6f73a216",
   "metadata": {},
   "outputs": [],
   "source": [
    "#Fonction permettant de tracer un rectangle à l'aide de 4 points\n",
    "def draw_rect_video(frame, posA = (10, 50), posB = (20, 70), color = (255,0,0)):\n",
    "    \"\"\"draw a rectangle given 2 points\"\"\"\n",
    "    #c = hex2rgb(colors[0])\n",
    "    #color = (c[2], c[1], c[0])\n",
    "    thickness = 6\n",
    "    cv2.rectangle(frame, posA, posB, color, thickness)\n",
    "\n",
    "    return\n"
   ]
  },
  {
   "cell_type": "code",
   "execution_count": 3,
   "id": "a0ac9997",
   "metadata": {},
   "outputs": [],
   "source": [
    "#Créez une fonction permettant à l'aide de l'estimation de pose de tracer une box englobante des joueurs\n",
    "\n",
    "#Lancez la fonction sur l'ensemble des images"
   ]
  },
  {
   "cell_type": "code",
   "execution_count": 4,
   "id": "768a6091",
   "metadata": {},
   "outputs": [],
   "source": [
    "\n",
    "#Tracer des bounding box autour des joueurs à l'aide de l'estimation de pose\n",
    "def bounding_box(num_frame,chemin_image,num_personne,chemin_csv,chemin_sauvegarder,afficher_image=True):\n",
    "    '''\n",
    "        Fonction permettant de tracer une box autour d'une personne à l'aide du csv tracking openpose\n",
    "        Entrée: le numéro de la frame, le chemin de l'image, le numéro de la personne, le chemin du csv Openpose tracking,\n",
    "                le chemin où on veut sauvegarder l'image avec la box, un booléen qui indique si on veut afficher l'image\n",
    "    '''\n",
    "    if not os.path.isdir(chemin_sauvegarder):\n",
    "        os.mkdir(chemin_sauvegarder)\n",
    "    #Ouvir le fichier csv\n",
    "    with open(chemin_csv, newline='') as csvfile:\n",
    "        reader = csv.reader(csvfile)\n",
    "        next(reader) #permet de ne pas prendre l'en-tête\n",
    "        max_x,max_y,min_x,min_y = -1,-1,-1,-1\n",
    "        for row in reader:\n",
    "            if ((int(row[0]) == num_frame) and (int(row[5]) == num_personne)):\n",
    "                if max_x == -1:\n",
    "                    max_x,max_y,min_x,min_y = float(row[3]),float(row[4]),float(row[3]),float(row[4])\n",
    "                else:\n",
    "                    if ((float(row[3]) > max_x)):\n",
    "                        max_x = float(row[3])\n",
    "                    if ((float(row[4]) > max_y)):\n",
    "                        max_y = float(row[4])\n",
    "                    if (((float(row[3]) < min_x) or (min_x == 0)) and (float(row[3]) != 0)):\n",
    "                        min_x = float(row[3])\n",
    "                    if (((float(row[4]) < min_y) or (min_y == 0)) and (float(row[4]) != 0)):\n",
    "                        min_y = float(row[4])\n",
    "    \n",
    "    image = cv2.imread(chemin_image) #lire image\n",
    "    draw_rect_video(image, (int(max_x),int(max_y)), (int(min_x),int(min_y))) #tracer rectangle\n",
    "    cv2.putText(image, str(num_personne), (int(min_x),int(min_y)), cv2.FONT_HERSHEY_SIMPLEX, 0.5, (255, 255, 255))\n",
    "    \n",
    "    cv2.imwrite(os.path.join(chemin_sauvegarder,str(num_frame)+'.jpg'),image) #enregistrer image avec box\n",
    "    \n",
    "    if afficher_image:\n",
    "        IPython.display.display(PIL.Image.fromarray(cv2.cvtColor(cv2.imread(os.path.join(chemin_sauvegarder,str(num_frame)+'.jpg')), cv2.COLOR_BGR2RGB)))\n",
    "    \n",
    "#bounding_box(0,os.path.join('output','0.jpg'),0,'openpose.csv',os.path.join('output','frames_boxes'))\n",
    "#Faire des premiers calculs de métrics (vitesses, distances de déplacements,...)\n",
    "#Faire bounding box Couleur de la raquette\n"
   ]
  },
  {
   "cell_type": "markdown",
   "id": "7268b694",
   "metadata": {},
   "source": [
    "### 2. Détection de la couleur de la raquette\n",
    "\n",
    "Toujours en utilisant l'estimation, on peut définir une zone autour du poignet des joueurs dans laquelle on va pouvoir calculer la couleur de la raquette"
   ]
  },
  {
   "cell_type": "code",
   "execution_count": null,
   "id": "32b86560",
   "metadata": {},
   "outputs": [],
   "source": [
    "#Faites une fonction permettant de définir la zone ou se situe la raquette\n",
    "\n",
    "#Mettre en place une méthode pour estimer la couleur de la raquette"
   ]
  },
  {
   "cell_type": "code",
   "execution_count": null,
   "id": "e4e8d286",
   "metadata": {},
   "outputs": [],
   "source": [
    "#Detecter la couleur de la raquette\n",
    "\n",
    "def detect_couleur_raquette(chemin_image,point_main,point_coude):\n",
    "    '''\n",
    "        Fonction permettant de détecter la couleur de la raquette\n",
    "        Entrée: le chemin de l'image, les coordonnées de la main droite, les coordonnées du coude droit\n",
    "        Sortie: Trace sur l'image le rectangle contenant la raquette de la couleur détectée\n",
    "    '''\n",
    "    #dir = os.listdir('raquette/')\n",
    "    facteur = 100\n",
    "    \n",
    "    frame = cv2.cvtColor(cv2.imread(chemin_image), cv2.COLOR_BGR2RGB)\n",
    "    rouge = 0\n",
    "    noir = 0\n",
    "    img_hsv = cv2.cvtColor(frame, cv2.COLOR_BGR2HSV)\n",
    "    if point_main[0] < point_coude[0]: \n",
    "        for i in range(min(point_main[0],point_main[0]-facteur),max(point_main[0],point_main[0]-facteur)-3,4):\n",
    "            for j in range(min(point_main[1]+facteur//2,point_main[1]-facteur//2),max(point_main[1]+facteur//2,point_main[1]-facteur//2)-3,4):\n",
    "                if ((i <= frame.shape[0]) and (j <= frame.shape[1])):\n",
    "                    if ((frame[i][j][0] > frame[i][j][1]+30) and (frame[i][j][0] > frame[i][j][2]+30)):#paramettres de couleurs pour le rouge\n",
    "                        rouge += 1\n",
    "                    elif((frame[i][j][0] < 55) and (frame[i][j][1] < 55) and (frame[i][j][2] < 55)):#paramettres de couleurs pour le noir\n",
    "                        #print('noir')\n",
    "                        noir += 1\n",
    "        if rouge > noir:\n",
    "            cv2.rectangle(frame,(point_main[0],point_main[1]+facteur//2),(point_main[0]-facteur,point_main[1]-facteur//2),(255,0,0), 3)\n",
    "        else:\n",
    "            cv2.rectangle(frame,(point_main[0],point_main[1]+facteur//2),(point_main[0]-facteur,point_main[1]-facteur//2),(0,0,0), 3)\n",
    "        #cv2.imwrite('raquette/raquette_'+str(len(dir))+'.jpg',frame[min(point_main[1]+facteur//2,point_main[1]-facteur//2):max(point_main[1]+facteur//2,point_main[1]-facteur//2),min(point_main[0],point_main[0]-facteur):max(point_main[0],point_main[0]-facteur)])\n",
    "    else:\n",
    "        for i in range(min(point_main[0],point_main[0]+facteur),max(point_main[0],point_main[0]+facteur)-3,4):\n",
    "            for j in range(min(point_main[1]+facteur//2,point_main[1]-facteur//2),max(point_main[1]+facteur//2,point_main[1]-facteur//2)-3,4):\n",
    "                if ((i <= frame.shape[0]) and (j <= frame.shape[1])):\n",
    "                    if ((frame[i][j][0] > frame[i][j][1]+30) and (frame[i][j][0] > frame[i][j][2]+30)):#paramettres de couleurs pour le rouge\n",
    "                        rouge += 1\n",
    "                    elif((frame[i][j][0] < 55) and (frame[i][j][1] < 55) and (frame[i][j][2] < 55)):#paramettres de couleurs pour le noir\n",
    "                        #print('noir')\n",
    "                        noir += 1\n",
    "        if rouge > noir:\n",
    "            cv2.rectangle(frame,(point_main[0],point_main[1]+facteur//2),(point_main[0]+facteur,point_main[1]-facteur//2),(255,0,0), 3)\n",
    "        else:\n",
    "            cv2.rectangle(frame,(point_main[0],point_main[1]+facteur//2),(point_main[0]+facteur,point_main[1]-facteur//2),(0,0,0), 3)\n",
    "        #cv2.imwrite('raquette/raquette_'+str(len(dir))+'.jpg',frame[min(point_main[1]+facteur//2,point_main[1]-facteur//2):max(point_main[1]+facteur//2,point_main[1]-facteur//2),min(point_main[0],point_main[0]-facteur):max(point_main[0],point_main[0]-facteur)])\n",
    "\n",
    "    IPython.display.display(PIL.Image.fromarray(frame))\n",
    "\n",
    "    \n",
    "#Appliquer sur une image\n",
    "def detection_couleur_raquette_une_image(chemin_csv,numero_frame,numero_personne):\n",
    "    '''\n",
    "        Fonction permettant de tracer sur une image une box de la couleur du côté de la raquette\n",
    "        Entrée: le chemin du csv contenant les annotations Openpose, le numéro de la frame de l'image voulue, le numéro de la personne voulue\n",
    "        Sortie: affichage sur l'image de la boxe\n",
    "    '''\n",
    "    with open(os.path.join('output','csv','openpose.csv'), newline='') as csvfile:\n",
    "        reader = csv.reader(csvfile)\n",
    "        next(reader) #permet de ne pas prendre l'en-tête\n",
    "        for row in reader:\n",
    "            if ((int(row[0]) == numero_frame) and (int(row[1]) == numero_personne)):\n",
    "                if (int(row[2]) == 3):#coude droit (6 pour le gauche)\n",
    "                    point_coude = [int(float(row[3])),int(float(row[4]))]\n",
    "                if (int(row[2]) == 4):#main (7 pour le gauche)\n",
    "                    point_main = [int(float(row[3])),int(float(row[4]))]\n",
    "    detect_couleur_raquette(os.path.join('output','frames',str(numero_frame)+'.jpg'),point_main,point_coude)\n",
    "#detection_couleur_raquette_une_image(os.path.join('output','csv','openpose.csv'),59,0)"
   ]
  }
 ],
 "metadata": {
  "kernelspec": {
   "display_name": "Python 3 (ipykernel)",
   "language": "python",
   "name": "python3"
  },
  "language_info": {
   "codemirror_mode": {
    "name": "ipython",
    "version": 3
   },
   "file_extension": ".py",
   "mimetype": "text/x-python",
   "name": "python",
   "nbconvert_exporter": "python",
   "pygments_lexer": "ipython3",
   "version": "3.7.2"
  }
 },
 "nbformat": 4,
 "nbformat_minor": 5
}
