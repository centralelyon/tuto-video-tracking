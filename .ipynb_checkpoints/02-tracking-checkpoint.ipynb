{
 "cells": [
  {
   "cell_type": "markdown",
   "id": "4a787399",
   "metadata": {},
   "source": [
    "# Notebook sur le tracking vidéo\n",
    "\n",
    "Dans ce notebook nous allons voir comment on peut lire une vidéo, extraire les frames de la vidéo, faire de la détection (estimation de pose) et faire du tracking sur cette détection.\n",
    "\n",
    "**Avant de commencer:**\n",
    "Certains modèles sont exploitable directement en ligne:\n",
    "- https://mediapipe-studio.webapps.google.com/demo/pose_landmarker\n",
    "- https://storage.googleapis.com/tfjs-models/demos/pose-detection/index.html?model=blazepose\n",
    "\n",
    "**Plan:**\n",
    "1. Lecture de vidéo\n",
    "2. Manipulation de frames\n",
    "3. Estimation de pose\n",
    "4. Utilisation des données"
   ]
  },
  {
   "cell_type": "markdown",
   "id": "cd9ed7fb",
   "metadata": {},
   "source": [
    "### 0. Import "
   ]
  },
  {
   "cell_type": "code",
   "execution_count": 272,
   "id": "16e3cae2",
   "metadata": {},
   "outputs": [],
   "source": [
    "import cv2\n",
    "import os\n",
    "import subprocess\n",
    "import json\n",
    "import pandas as pd\n",
    "import csv\n",
    "from PIL import Image\n",
    "from ipyfilechooser import FileChooser\n",
    "import IPython.display\n",
    "import ipywidgets \n",
    "import numpy as np"
   ]
  },
  {
   "cell_type": "markdown",
   "id": "d2c93481",
   "metadata": {},
   "source": [
    "### 1. Lecture de vidéo\n",
    "\n",
    "Pour lire les vidéos et manipuler les images, nous allons utiliser la bibliothèque <a href='https://opencv.org/'>OpenCV<a>"
   ]
  },
  {
   "cell_type": "code",
   "execution_count": 256,
   "id": "0cd7eab4",
   "metadata": {},
   "outputs": [
    {
     "data": {
      "application/vnd.jupyter.widget-view+json": {
       "model_id": "2656868958754b3a857b8b45b39427c4",
       "version_major": 2,
       "version_minor": 0
      },
      "text/plain": [
       "FileChooser(path='C:\\Users\\ReViVD\\Documents\\GitHub\\tuto-video-tracking', filename='test.txt', title='<b>FileCh…"
      ]
     },
     "metadata": {},
     "output_type": "display_data"
    }
   ],
   "source": [
    "\n",
    "#Bouton pour la selection de l'image\n",
    "\n",
    "\n",
    "fdialog_vid = FileChooser(\n",
    "    os.getcwd(),\n",
    "    filename='test.txt',\n",
    "    title='<b>FileChooser example</b>',\n",
    "    show_hidden=False,\n",
    "    select_default=True,\n",
    "    show_only_dirs=False\n",
    ")\n",
    "\n",
    "display(fdialog_vid)\n",
    "\n",
    "# Get the selected value\n",
    "fdialog_vid.selected\n",
    "\n",
    "# Callback example\n",
    "def change_title(chooser):\n",
    "    chooser.title = '<b>Sélection effectuée</b>'\n",
    "\n",
    "# Register callback function\n",
    "fdialog_vid.register_callback(change_title)\n",
    "\n",
    "# Set or change the title\n",
    "fdialog_vid.title = '<b>Selectionner une vidéo</b>'\n",
    "\n",
    "# Show hidden files, change rows to 10, and hide folder icons\n",
    "fdialog_vid.show_hidden = True\n",
    "fdialog_vid.rows = 10\n",
    "fdialog_vid.dir_icon = None\n",
    "\n",
    "# Change folder icon to `os.sep` and append it to the folder name\n",
    "fdialog_vid.dir_icon = os.sep\n",
    "fdialog_vid.dir_icon_append = True\n",
    "\n",
    "\n",
    "\n",
    "# Switch to folder-only mode\n",
    "fdialog_vid.show_only_dirs = True\n",
    "\n",
    "# Switch back to standard mode\n",
    "fdialog_vid.show_only_dirs = False\n",
    "\n",
    "\n",
    "# Set multiple file filter patterns (uses https://docs.python.org/3/library/fnmatch.html)\n",
    "fdialog_vid.filter_pattern = ['*.mp4', '*.avi', '*.mov']\n",
    "\n",
    "# Change the default path and filename\n",
    "fdialog_vid.default_path = os.path.abspath(os.getcwd())\n",
    "fdialog_vid.default_filename = 'readme.md'\n",
    "\n",
    "# Reset to defaults and clear the selected value\n",
    "fdialog_vid.reset()\n",
    "\n",
    "\n"
   ]
  },
  {
   "cell_type": "code",
   "execution_count": 257,
   "id": "edb90288",
   "metadata": {},
   "outputs": [],
   "source": [
    "#Lecture de la vidéo\n",
    "video_name = fdialog_vid.selected\n",
    "\n",
    "vidcap = cv2.VideoCapture(video_name)\n",
    "    "
   ]
  },
  {
   "cell_type": "markdown",
   "id": "09db2f33",
   "metadata": {},
   "source": [
    "### 2. Manipulation de frames\n",
    "\n",
    "Pour la manipulation de frames, nous allons reprendre la bibliothèque <a href='https://opencv.org/'>OpenCV<a>"
   ]
  },
  {
   "cell_type": "code",
   "execution_count": 258,
   "id": "a2e74ec3",
   "metadata": {},
   "outputs": [],
   "source": [
    "#Extraction des frames\n",
    "if not os.path.isdir('output'):\n",
    "    os.mkdir('output')\n",
    "frame_path = os.path.join('output','frames')\n",
    "\n",
    "if not os.path.isdir(frame_path):\n",
    "    os.mkdir(frame_path)\n",
    "    \n",
    "success, image = vidcap.read()\n",
    "i = 0\n",
    "while success != False:\n",
    "    #Lecture des frames\n",
    "    success, image = vidcap.read()\n",
    "    \n",
    "    #Sauvegarder les frames\n",
    "    if success:\n",
    "        cv2.imwrite(os.path.join(frame_path, str(i) + \".jpg\"), image)\n",
    "    else:\n",
    "        break\n",
    "    \n",
    "    i += 1"
   ]
  },
  {
   "cell_type": "markdown",
   "id": "055e7662",
   "metadata": {},
   "source": [
    "### 3. Estimation de la pose\n",
    "\n",
    "Pour faire l'estimation de pose, nous allons utiliser <a href='https://github.com/CMU-Perceptual-Computing-Lab/openpose'>Openpose<a>"
   ]
  },
  {
   "cell_type": "code",
   "execution_count": 248,
   "id": "662cd592",
   "metadata": {},
   "outputs": [
    {
     "data": {
      "text/plain": [
       "'Si on a installé Openpose avec docker'"
      ]
     },
     "execution_count": 248,
     "metadata": {},
     "output_type": "execute_result"
    }
   ],
   "source": [
    "#Cette partie peut être faite si l'on a installé Openpose\n",
    "\n",
    "# Répertorier les frames dans le dossier où elles ont été sauvegardées\n",
    "\n",
    "liste_frame = os.listdir(frame_path)\n",
    "\n",
    "if not os.path.isdir(os.path.join('output','openpose_json')):\n",
    "    os.mkdir(os.path.join('output','openpose_json'))\n",
    "#Lancer Openpose sur les frames, Choisir où on enregistre les frames\n",
    "chemin_sauvegarde = os.path.join('output','openpose_json')\n",
    "\n",
    "path_openpose = \"C:\\\\Users\\\\ReViVD\\\\Downloads\\\\openpose-1.7.0-binaries-win64-gpu-python3.7-flir-3d_recommended\\\\openpose\"\n",
    "dossier_courant = os.getcwd()\n",
    "os.chdir(path_openpose)\n",
    "if not os.path.isdir(chemin_sauvegarde):\n",
    "    os.mkdir(chemin_sauvegarde)\n",
    "subprocess.call(\"bin\\\\OpenPoseDemo.exe --video \"+os.path.join(dossier_courant,video_name)+\" --write_json \"+os.path.join(dossier_courant,chemin_sauvegarde)+' --write_video '+os.path.join(dossier_courant,video_name.replace('.mp4','_openpose.avi'))+' --display 0')\n",
    "\n",
    "#subprocess.call(\"bin\\\\OpenPoseDemo.exe --image_dir \"+os.path.join(dossier_courant,'test')+\" --write_images \"+os.path.join(dossier_courant,'test2')+\" --write_json \"+os.path.join(dossier_courant,chemin_sauvegarde)+ ' --display 0')\n",
    "os.chdir(dossier_courant)\n",
    "\n",
    "\"\"\"Si on a installé Openpose avec docker\"\"\"\n",
    "#!docker run -v`pwd`/frames:/frames -it seancook/openpose-cpu -display 0 -image_dir /frames -write_images /frames\n",
    "    "
   ]
  },
  {
   "cell_type": "markdown",
   "id": "79ce6d6c",
   "metadata": {},
   "source": [
    "### Keypoints Openpose"
   ]
  },
  {
   "cell_type": "markdown",
   "id": "9d18f169",
   "metadata": {},
   "source": [
    "<img src=\"utils/openpose_keypoints.png\" width=300 height=300 />"
   ]
  },
  {
   "cell_type": "markdown",
   "id": "a3311adb",
   "metadata": {},
   "source": [
    "### 4. Utilisation des données"
   ]
  },
  {
   "cell_type": "markdown",
   "id": "0491aca0",
   "metadata": {},
   "source": [
    "#### 4.1. Sauvegarder les données dans un format csv\n",
    "\n",
    "Openpose resort les données sous forme de json, un fichier json par image. Il faut donc que l'on crée un fichier unique contenant les informations de tous les fichiers json"
   ]
  },
  {
   "cell_type": "code",
   "execution_count": null,
   "id": "8051c4f0",
   "metadata": {},
   "outputs": [],
   "source": [
    "#Proposez un format permettant de sauvegarder les données Openpose\n",
    "\n"
   ]
  },
  {
   "cell_type": "code",
   "execution_count": 249,
   "id": "8050889e",
   "metadata": {
    "scrolled": true
   },
   "outputs": [],
   "source": [
    "#Répertorier les json dans le dossier où elles ont été sauvegardées\n",
    "liste_json_openpose = os.listdir(chemin_sauvegarde)\n",
    "\n",
    "#Ouvrir les json et les récupérer les données\n",
    "liste_toutes_valeurs = []\n",
    "for le_json in liste_json_openpose:\n",
    "        if '.json' in le_json: #test pour vérifier que c'est bien un fichier json\n",
    "            data = pd.read_json(os.path.join(chemin_sauvegarde,le_json), lines=True)\n",
    "            if len(data['people'])>0: #test pour vérifier qu'il y a bien au moins une personne détectée\n",
    "                for i in range(len(data['people'][0])):\n",
    "                    data_keypoints = data['people'][0][i]['pose_keypoints_2d']\n",
    "                    for j in range(0,len(data_keypoints),3): #partie permettant de récupérer les coordonnées x, y et la confiance à chaque fois\n",
    "                        liste_un_json = []\n",
    "                        liste_un_json.append(int(le_json.split('_')[-2]))\n",
    "                        liste_un_json.append(i)\n",
    "                        liste_un_json.append(j//3)\n",
    "                        liste_un_json.append(data_keypoints[j])\n",
    "                        liste_un_json.append(data_keypoints[j+1])\n",
    "                        liste_un_json.append(data_keypoints[j+2])\n",
    "                        liste_toutes_valeurs.append(liste_un_json)\n",
    "\n",
    "#Créer un fichier csv à l'aide des json créés par Openpose\n",
    "chemin_csv_openpose = os.path.join('output','csv','openpose.csv') #chemin où on va enregistrer le csv contenant les informations openpose\n",
    "if not os.path.isdir(os.path.split(chemin_csv_openpose)[0]):\n",
    "    os.mkdir(os.path.split(chemin_csv_openpose)[0]) #Créer le dossier s'il n'existe pas déjà\n",
    "\n",
    "#Ecriture du fichier\n",
    "with open(chemin_csv_openpose,'w',newline='') as fichiercsv:\n",
    "    writer=csv.writer(fichiercsv)\n",
    "    writer.writerow(['frame','numero_pers','joint','x','y','confience'])\n",
    "    for l in liste_toutes_valeurs:\n",
    "        writer.writerow(l)\n",
    "\n"
   ]
  },
  {
   "cell_type": "markdown",
   "id": "87cacf7a",
   "metadata": {},
   "source": [
    "#### 4.2. Première approche de tracking\n",
    "\n",
    "Pour calculer le tracking, on va regarder pour une personne donnée, sur l'image suivante, quel personne se est la plus proche d'elle. Ce que l'on appelle proche est la distance entre deux positions. Etant donné que l'on a une estimation de pose des personnes, on va pouvoir faire des calculs de distances pour chaque membre de chauqe personne, ce qui signifie que l'on considère plusieurs points d'intérêts pour chaque personnes ce qui renforce la robustesse du tracking"
   ]
  },
  {
   "cell_type": "code",
   "execution_count": 162,
   "id": "e59de178",
   "metadata": {},
   "outputs": [],
   "source": [
    "#Proposez une approche pour faire un tracking de personne\n",
    "\n"
   ]
  },
  {
   "cell_type": "markdown",
   "id": "4ca52dac",
   "metadata": {},
   "source": [
    "#### 4.3. Sauvegarder les données de tracking\n",
    "\n",
    "En utilisant le fichier csv Openpose, et à l'aide des fonctions réalisées, on peut créer un csv avec le tracking des joueurs"
   ]
  },
  {
   "cell_type": "code",
   "execution_count": 274,
   "id": "69e819b0",
   "metadata": {},
   "outputs": [],
   "source": [
    "\n",
    "def openpose_json2list(chemin_json): \n",
    "    '''Prend en entrée le chemin des fichiers contenant les fichiers json. \n",
    "    En sortie il sort une liste de liste: ['frame','numero_pers','joint','x','y','confience']\n",
    "    '''\n",
    "    dossier = os.listdir(chemin_json)\n",
    "    liste_sortie = []\n",
    "    val_precedente_existe = [0]\n",
    "    val_precedente = [[]]\n",
    "    for les_json in dossier:\n",
    "        if '.json' in les_json:\n",
    "            with open(os.path.join(chemin_json,les_json)) as mon_json:\n",
    "                data = json.load(mon_json)\n",
    "                if len(data['people'])>0:\n",
    "                    for i in range(len(data['people'])):\n",
    "                        data_keypoints = data['people'][i]['pose_keypoints_2d']\n",
    "                        if (len(data['people'])>len(val_precedente_existe)):\n",
    "                            val_precedente_existe.append(0)\n",
    "                            val_precedente.append([])\n",
    "                        for j in range(0,len(data_keypoints),3):\n",
    "                            liste_un_json = []\n",
    "                            liste_un_json.append(int(les_json.split('_')[-2]))\n",
    "                            liste_un_json.append(i)\n",
    "                            liste_un_json.append(j//3)\n",
    "                            liste_un_json.append(data_keypoints[j])\n",
    "                            liste_un_json.append(data_keypoints[j+1])\n",
    "                            liste_un_json.append(data_keypoints[j+2])\n",
    "                            liste_sortie.append(liste_un_json)\n",
    "                            if val_precedente_existe[i]:\n",
    "                                if ((data_keypoints[j] != 0) and (val_precedente[i][j] != 0)):\n",
    "                                    liste_un_json.append(data_keypoints[j]-val_precedente[i][j])\n",
    "                                else:\n",
    "                                    liste_un_json.append(0)\n",
    "                                if ((data_keypoints[j+1] != 0) and (val_precedente[i][j+1] != 0)):\n",
    "                                    liste_un_json.append(data_keypoints[j+1]-val_precedente[i][j+1])\n",
    "                                else:\n",
    "                                    liste_un_json.append(0)\n",
    "                            else:\n",
    "                                liste_un_json.append(0)\n",
    "                                liste_un_json.append(0)\n",
    "                        val_precedente[i] = data_keypoints\n",
    "                        val_precedente_existe[i] = 1\n",
    "    return(liste_sortie)\n",
    "\n",
    "\n",
    "\n",
    "def openpose_json2list_tracking(chemin_json): \n",
    "    '''Elle prend en entrée le chemin des fichiers contenant les fichiers json. \n",
    "    En sortie [[1,2,3,4],[2,3,1,0],...], elle sort une liste de liste contenant le numéro de la personne identifiée (la place dans les sous listes correspondent à l'ordre des personnes dans les json openpose).\n",
    "    '''\n",
    "    dossier = os.listdir(chemin_json)\n",
    "    liste_sortie = []\n",
    "    val_precedente = []\n",
    "    val_actuelle = [[]]\n",
    "    nb_personnes_tot = -1\n",
    "    val_precedente = {}\n",
    "    for les_json in dossier:\n",
    "        if '.json' in les_json:\n",
    "            with open(os.path.join(chemin_json,les_json)) as mon_json:\n",
    "                data = json.load(mon_json)\n",
    "                if len(data['people'])>0:\n",
    "                    if nb_personnes_tot == -1:\n",
    "                        nb_personnes_tot = len(data['people'])\n",
    "                    nb_personnes = len(data['people'])\n",
    "                    val_actuelle = []\n",
    "                    liste_joueurs_avec_vals_moyennes_deplacements = []\n",
    "                    for i in range(nb_personnes):\n",
    "                        data_keypoints = data['people'][i]['pose_keypoints_2d']\n",
    "                        val_actuelle.append(data_keypoints)\n",
    "                        liste_un_joueur_avec_vals_moyennes_deplacements = []\n",
    "                        #On fait un calcul de distance d'une frame à l'autre en chaque personnes en se basant sur ses keypoints Openpose\n",
    "                        for k in range(len(val_precedente)):\n",
    "                            x = 0\n",
    "                            y = 0\n",
    "                            nb_points = 1\n",
    "                            for j in range(0,len(data_keypoints),3):\n",
    "                                if ((data_keypoints[j] != 0) and (val_precedente[k][j] != 0)):  #pour retirer les cas où openpose ne détecte pas un point car il le met à (0,0) et ça fausse tout\n",
    "                                    x += abs(data_keypoints[j] - val_precedente[k][j])\n",
    "                                    y += abs(data_keypoints[j+1] - val_precedente[k][j+1])\n",
    "                                    nb_points += 1\n",
    "                            if x+y == 0:\n",
    "                                x = y = 5000\n",
    "                            liste_un_joueur_avec_vals_moyennes_deplacements.append((x+y)/nb_points) #on aurait pu faire sqrt((x²+y²)/nb_points) mais je ne pense pas que ce soit utile\n",
    "                        liste_joueurs_avec_vals_moyennes_deplacements.append(liste_un_joueur_avec_vals_moyennes_deplacements)\n",
    "                    \n",
    "                    if liste_joueurs_avec_vals_moyennes_deplacements[0] != []:\n",
    "                        position_des_joueurs = []\n",
    "                        for j in range(len(liste_joueurs_avec_vals_moyennes_deplacements)):\n",
    "                            if min(liste_joueurs_avec_vals_moyennes_deplacements[j]) < 70:\n",
    "                                position_des_joueurs.append(np.argmin(liste_joueurs_avec_vals_moyennes_deplacements[j]))\n",
    "                            else:\n",
    "                                position_des_joueurs.append(nb_personnes_tot)\n",
    "                                nb_personnes_tot += 1\n",
    "                        #position_des_joueurs = [np.argmin(liste_joueurs_avec_vals_moyennes_deplacements[i]) for i in range(len(liste_joueurs_avec_vals_moyennes_deplacements))]\n",
    "                        \n",
    "                    else:\n",
    "                        position_des_joueurs = [i for i in range(len(liste_joueurs_avec_vals_moyennes_deplacements))]\n",
    "                        nb_personnes = len(position_des_joueurs)\n",
    "                    liste_sortie.append(position_des_joueurs[:])\n",
    "\n",
    "\n",
    "\n",
    "                    \n",
    "                    for i in position_des_joueurs: #mettre un dictionnaire pour traiter les cas où les personnes ne sont plus détectées/\n",
    "                        val_precedente[i] = val_actuelle[position_des_joueurs.index(i)]\n",
    "                else:\n",
    "                    liste_sortie.append([])\n",
    "    #print(liste_sortie)\n",
    "    return(liste_sortie)\n",
    "\n",
    "\n",
    "#Création du csv Openpose prennant en compte le tracking\n",
    "def creation_csv_tracking(list_openpose_json,liste_tracking_json,chemin_csv):\n",
    "    '''\n",
    "        Fonction permettant de créer un csv contenant les informations openpose avec le tracking des joueurs\n",
    "        Entrée: Une liste resortie par openpose_json2list() contenant les informations d'openpose, \n",
    "                une liste resortie par openpose_json2list_tracking() contenant les informations de suivi de joueurs, \n",
    "                le chemin où enregistrer les fichier csv et le nom du fichier csv,\n",
    "        Sortie: Création d'un fichier csv avec les informations openpose avec chaque ligne de type ['frame','numero_pers','joint','x','y','tracking']\n",
    "    '''\n",
    "    with open(os.path.join(chemin_csv),'w',newline='') as fichiercsv:\n",
    "        writer=csv.writer(fichiercsv)\n",
    "        writer.writerow(['frame','numero_pers','joint','x','y','tracking'])\n",
    "        frame_openpose = list_openpose_json[0][0]\n",
    "        personne_openpose = list_openpose_json[0][1]\n",
    "        for row in list_openpose_json:\n",
    "            if liste_tracking_json[row[0]] != []:\n",
    "                writer.writerow([row[0],liste_tracking_json[row[0]][row[1]],row[2],row[3],row[4],liste_tracking_json[row[0]][row[1]]])\n",
    "openpose_json2list_tracking(os.path.join('output','openpose_json'))\n",
    "creation_csv_tracking(openpose_json2list(os.path.join(os.path.join('output','openpose_json'))),\n",
    "                         openpose_json2list_tracking(os.path.join('output','openpose_json'))\n",
    "                         ,os.path.join('output','csv','openpose_tracking.csv'))    "
   ]
  }
 ],
 "metadata": {
  "kernelspec": {
   "display_name": "Python 3 (ipykernel)",
   "language": "python",
   "name": "python3"
  },
  "language_info": {
   "codemirror_mode": {
    "name": "ipython",
    "version": 3
   },
   "file_extension": ".py",
   "mimetype": "text/x-python",
   "name": "python",
   "nbconvert_exporter": "python",
   "pygments_lexer": "ipython3",
   "version": "3.7.2"
  }
 },
 "nbformat": 4,
 "nbformat_minor": 5
}
